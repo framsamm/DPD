{
  "nbformat": 4,
  "nbformat_minor": 0,
  "metadata": {
    "colab": {
      "name": "createClasses_1.ipynb",
      "provenance": [],
      "authorship_tag": "ABX9TyPq7vOXTvASp1D5IYR3KzWy",
      "include_colab_link": true
    },
    "kernelspec": {
      "name": "python3",
      "display_name": "Python 3"
    }
  },
  "cells": [
    {
      "cell_type": "markdown",
      "metadata": {
        "id": "view-in-github",
        "colab_type": "text"
      },
      "source": [
        "<a href=\"https://colab.research.google.com/github/framsamm/DPD/blob/master/createClasses_1.ipynb\" target=\"_parent\"><img src=\"https://colab.research.google.com/assets/colab-badge.svg\" alt=\"Open In Colab\"/></a>"
      ]
    },
    {
      "cell_type": "code",
      "metadata": {
        "id": "3T9cG_eAzAWc"
      },
      "source": [
        "# Import the library\r\n",
        "\r\n",
        "import matplotlib.pyplot as plt\r\n",
        "%matplotlib inline  "
      ],
      "execution_count": 1,
      "outputs": []
    },
    {
      "cell_type": "code",
      "metadata": {
        "id": "pOBMO9KlzEJP"
      },
      "source": [
        "# Create a class Circle\r\n",
        "\r\n",
        "class Circle(object):\r\n",
        "    \r\n",
        "    # Constructor\r\n",
        "    def __init__(self, radius=3, color='blue'):\r\n",
        "        self.radius = radius\r\n",
        "        self.color = color \r\n",
        "    \r\n",
        "    # Method\r\n",
        "    def add_radius(self, r):\r\n",
        "        self.radius = self.radius + r\r\n",
        "        return(self.radius)\r\n",
        "    \r\n",
        "    # Method\r\n",
        "    def drawCircle(self):\r\n",
        "        plt.gca().add_patch(plt.Circle((0, 0), radius=self.radius, fc=self.color))\r\n",
        "        plt.axis('scaled')\r\n",
        "        plt.show()  "
      ],
      "execution_count": 2,
      "outputs": []
    },
    {
      "cell_type": "code",
      "metadata": {
        "id": "_8T3yoLNzLKO"
      },
      "source": [
        "# Create an object RedCircle\r\n",
        "\r\n",
        "RedCircle = Circle(10, 'red')"
      ],
      "execution_count": 3,
      "outputs": []
    },
    {
      "cell_type": "code",
      "metadata": {
        "colab": {
          "base_uri": "https://localhost:8080/"
        },
        "id": "R_Picv5nzSe-",
        "outputId": "3a5b7fe2-87c5-4279-fcbc-755e8ed8627b"
      },
      "source": [
        "dir(RedCircle)"
      ],
      "execution_count": 4,
      "outputs": [
        {
          "output_type": "execute_result",
          "data": {
            "text/plain": [
              "['__class__',\n",
              " '__delattr__',\n",
              " '__dict__',\n",
              " '__dir__',\n",
              " '__doc__',\n",
              " '__eq__',\n",
              " '__format__',\n",
              " '__ge__',\n",
              " '__getattribute__',\n",
              " '__gt__',\n",
              " '__hash__',\n",
              " '__init__',\n",
              " '__init_subclass__',\n",
              " '__le__',\n",
              " '__lt__',\n",
              " '__module__',\n",
              " '__ne__',\n",
              " '__new__',\n",
              " '__reduce__',\n",
              " '__reduce_ex__',\n",
              " '__repr__',\n",
              " '__setattr__',\n",
              " '__sizeof__',\n",
              " '__str__',\n",
              " '__subclasshook__',\n",
              " '__weakref__',\n",
              " 'add_radius',\n",
              " 'color',\n",
              " 'drawCircle',\n",
              " 'radius']"
            ]
          },
          "metadata": {
            "tags": []
          },
          "execution_count": 4
        }
      ]
    },
    {
      "cell_type": "code",
      "metadata": {
        "colab": {
          "base_uri": "https://localhost:8080/"
        },
        "id": "W1Ncl5Lw2o5Z",
        "outputId": "1e61e076-b075-43a8-c931-aa0a258e7e2d"
      },
      "source": [
        "RedCircle.radius"
      ],
      "execution_count": 5,
      "outputs": [
        {
          "output_type": "execute_result",
          "data": {
            "text/plain": [
              "10"
            ]
          },
          "metadata": {
            "tags": []
          },
          "execution_count": 5
        }
      ]
    },
    {
      "cell_type": "code",
      "metadata": {
        "colab": {
          "base_uri": "https://localhost:8080/",
          "height": 35
        },
        "id": "R2ngsJmA2uHI",
        "outputId": "24448965-d3c7-49bd-8ac3-3a642cca74a1"
      },
      "source": [
        "RedCircle.color"
      ],
      "execution_count": 6,
      "outputs": [
        {
          "output_type": "execute_result",
          "data": {
            "application/vnd.google.colaboratory.intrinsic+json": {
              "type": "string"
            },
            "text/plain": [
              "'red'"
            ]
          },
          "metadata": {
            "tags": []
          },
          "execution_count": 6
        }
      ]
    },
    {
      "cell_type": "code",
      "metadata": {
        "colab": {
          "base_uri": "https://localhost:8080/",
          "height": 265
        },
        "id": "ci_o1cKB2zY4",
        "outputId": "eb88a34d-253a-4a12-f4f5-240705ec2cff"
      },
      "source": [
        "RedCircle.drawCircle()"
      ],
      "execution_count": 7,
      "outputs": [
        {
          "output_type": "display_data",
          "data": {
            "image/png": "[encoded data removed]",
            "text/plain": [
              "<Figure size 432x288 with 1 Axes>"
            ]
          },
          "metadata": {
            "tags": [],
            "needs_background": "light"
          }
        }
      ]
    },
    {
      "cell_type": "code",
      "metadata": {
        "colab": {
          "base_uri": "https://localhost:8080/"
        },
        "id": "VzamGz8i3Cio",
        "outputId": "95036a4f-83b7-4a7f-bef3-ee276e3fe135"
      },
      "source": [
        "# Use method to change the object attribute radius\r\n",
        "\r\n",
        "print('Radius of object:',RedCircle.radius)\r\n",
        "RedCircle.add_radius(2)\r\n",
        "print('Radius of object of after applying the method add_radius(2):',RedCircle.radius)\r\n",
        "RedCircle.add_radius(5)\r\n",
        "print('Radius of object of after applying the method add_radius(5):',RedCircle.radius)"
      ],
      "execution_count": 8,
      "outputs": [
        {
          "output_type": "stream",
          "text": [
            "Radius of object: 10\n",
            "Radius of object of after applying the method add_radius(2): 12\n",
            "Radius of object of after applying the method add_radius(5): 17\n"
          ],
          "name": "stdout"
        }
      ]
    },
    {
      "cell_type": "code",
      "metadata": {
        "id": "KJyabZrf4mxt"
      },
      "source": [
        "# Create a blue circle with a given radius\r\n",
        "\r\n",
        "BlueCircle = Circle(radius=100)"
      ],
      "execution_count": 9,
      "outputs": []
    },
    {
      "cell_type": "code",
      "metadata": {
        "colab": {
          "base_uri": "https://localhost:8080/",
          "height": 265
        },
        "id": "xUWN89sd5Gcs",
        "outputId": "b2ad0ef6-512f-43da-cb28-ff6bf3bd3755"
      },
      "source": [
        "BlueCircle.drawCircle()"
      ],
      "execution_count": 10,
      "outputs": [
        {
          "output_type": "display_data",
          "data": {
            "image/png": "[encoded data removed]",
            "text/plain": [
              "<Figure size 432x288 with 1 Axes>"
            ]
          },
          "metadata": {
            "tags": [],
            "needs_background": "light"
          }
        }
      ]
    },
    {
      "cell_type": "code",
      "metadata": {
        "id": "UxukvCot5Hpc"
      },
      "source": [
        ""
      ],
      "execution_count": null,
      "outputs": []
    }
  ]
}